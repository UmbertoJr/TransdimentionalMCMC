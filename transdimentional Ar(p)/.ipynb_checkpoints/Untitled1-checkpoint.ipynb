{
 "cells": [
  {
   "cell_type": "code",
   "execution_count": 1,
   "metadata": {},
   "outputs": [
    {
     "name": "stderr",
     "output_type": "stream",
     "text": [
      "also installing the dependencies 'grpreg', 'leaps', 'ltsa', 'bestglm'\n",
      "\n"
     ]
    },
    {
     "name": "stdout",
     "output_type": "stream",
     "text": [
      "package 'grpreg' successfully unpacked and MD5 sums checked\n",
      "package 'leaps' successfully unpacked and MD5 sums checked\n",
      "package 'ltsa' successfully unpacked and MD5 sums checked\n",
      "package 'bestglm' successfully unpacked and MD5 sums checked\n",
      "package 'FitAR' successfully unpacked and MD5 sums checked\n",
      "\n",
      "The downloaded binary packages are in\n",
      "\tC:\\Users\\Umbertojunior\\AppData\\Local\\Temp\\Rtmp2rECem\\downloaded_packages\n"
     ]
    }
   ],
   "source": [
    "install.packages(\"FitAR\", repos = \"http://cran.stat.unipd.it/\")"
   ]
  },
  {
   "cell_type": "code",
   "execution_count": 44,
   "metadata": {},
   "outputs": [],
   "source": [
    "require(FitAR, quietly = T)\n",
    "require(HI, quietly = T)"
   ]
  },
  {
   "cell_type": "code",
   "execution_count": 5,
   "metadata": {},
   "outputs": [],
   "source": [
    "?ARToPacf"
   ]
  },
  {
   "cell_type": "code",
   "execution_count": 4,
   "metadata": {},
   "outputs": [
    {
     "data": {
      "text/html": [
       "1.70974345792274e-14"
      ],
      "text/latex": [
       "1.70974345792274e-14"
      ],
      "text/markdown": [
       "1.70974345792274e-14"
      ],
      "text/plain": [
       "[1] 1.709743e-14"
      ]
     },
     "metadata": {},
     "output_type": "display_data"
    }
   ],
   "source": [
    "somePACF<-c(0.5,0.6,0.7,0.8,-0.9,-0.8)\n",
    "#PacfToAR() transforms PACF to AR parameter coefficients. \n",
    "someAR<-PacfToAR(somePACF)\n",
    "test<-ARToPacf(someAR)\n",
    "#This should be very small\n",
    "sum(abs(test-somePACF))"
   ]
  },
  {
   "cell_type": "code",
   "execution_count": 7,
   "metadata": {},
   "outputs": [
    {
     "data": {
      "text/html": [
       "<ol class=list-inline>\n",
       "\t<li>-0.78</li>\n",
       "\t<li>0.9588</li>\n",
       "\t<li>1.72584</li>\n",
       "\t<li>0.80232</li>\n",
       "\t<li>-0.948</li>\n",
       "\t<li>-0.8</li>\n",
       "</ol>\n"
      ],
      "text/latex": [
       "\\begin{enumerate*}\n",
       "\\item -0.78\n",
       "\\item 0.9588\n",
       "\\item 1.72584\n",
       "\\item 0.80232\n",
       "\\item -0.948\n",
       "\\item -0.8\n",
       "\\end{enumerate*}\n"
      ],
      "text/markdown": [
       "1. -0.78\n",
       "2. 0.9588\n",
       "3. 1.72584\n",
       "4. 0.80232\n",
       "5. -0.948\n",
       "6. -0.8\n",
       "\n",
       "\n"
      ],
      "text/plain": [
       "[1] -0.78000  0.95880  1.72584  0.80232 -0.94800 -0.80000"
      ]
     },
     "metadata": {},
     "output_type": "display_data"
    }
   ],
   "source": [
    "someAR"
   ]
  },
  {
   "cell_type": "code",
   "execution_count": 8,
   "metadata": {},
   "outputs": [
    {
     "data": {
      "text/html": [
       "<ol class=list-inline>\n",
       "\t<li>0.499999999999993</li>\n",
       "\t<li>0.599999999999994</li>\n",
       "\t<li>0.700000000000003</li>\n",
       "\t<li>0.8</li>\n",
       "\t<li>-0.9</li>\n",
       "\t<li>-0.8</li>\n",
       "</ol>\n"
      ],
      "text/latex": [
       "\\begin{enumerate*}\n",
       "\\item 0.499999999999993\n",
       "\\item 0.599999999999994\n",
       "\\item 0.700000000000003\n",
       "\\item 0.8\n",
       "\\item -0.9\n",
       "\\item -0.8\n",
       "\\end{enumerate*}\n"
      ],
      "text/markdown": [
       "1. 0.499999999999993\n",
       "2. 0.599999999999994\n",
       "3. 0.700000000000003\n",
       "4. 0.8\n",
       "5. -0.9\n",
       "6. -0.8\n",
       "\n",
       "\n"
      ],
      "text/plain": [
       "[1]  0.5  0.6  0.7  0.8 -0.9 -0.8"
      ]
     },
     "metadata": {},
     "output_type": "display_data"
    }
   ],
   "source": [
    "test"
   ]
  },
  {
   "cell_type": "code",
   "execution_count": 3,
   "metadata": {},
   "outputs": [],
   "source": [
    "time_series <- arima.sim(list(ar=c(.9, -.2, 0.2)),n=10000)"
   ]
  },
  {
   "cell_type": "code",
   "execution_count": 46,
   "metadata": {},
   "outputs": [],
   "source": [
    "log.lik <- function(zeta){\n",
    "    p= length(zeta)\n",
    "    D <- matrix(nrow = p+1 ,ncol = p+1)\n",
    "    n = length(time_series)\n",
    "    for(i in 1:(p+1)){\n",
    "        for(j in 1:(p+1)){\n",
    "            D[i,j] = time_series[i:(n-j)]%*%time_series[j:(n-i)]\n",
    "        }\n",
    "    }\n",
    "    beta <- c(-1, PacfToAR(zeta))\n",
    "    S.zeta <- beta%*%D%*%beta\n",
    "    g.p <- prod((1- zeta**2)**-(1:p))\n",
    "    return(-(n/2)*log(S.zeta/n) - (1/2)*log(g.p))\n",
    "}\n",
    "\n",
    "ldens.list <- list(\"AR(4)\" = log.lik, \"AR(3)\" = log.lik,\n",
    "                   \"AR(2)\" = log.lik, \"AR(1)\" = log.lik)\n",
    "\n",
    "### creation of ausiliar density\n",
    "trans.mix <- function(y) {\n",
    "  trans.dens(y, ldens.list=ldens.list, which.models=0:3)\n",
    "}"
   ]
  },
  {
   "cell_type": "code",
   "execution_count": null,
   "metadata": {},
   "outputs": [],
   "source": [
    "options(warn=-1)\n",
    "trans.rmix <- arms(c(0,0,0,0), trans.mix, function(zeta) (min(zeta)>=-1)*(max(zeta)<1),\n",
    "                   500)\n",
    "rmix <- trans.dens(y=trans.rmix, ldens.list=ldens.list,\n",
    "                   which.models=0:3, back.transform = TRUE)\n",
    "options(warn=0)"
   ]
  },
  {
   "cell_type": "code",
   "execution_count": null,
   "metadata": {},
   "outputs": [],
   "source": [
    "table(rmix[,2])/nrow(rmix) ### Posterior aproximated distribution for model"
   ]
  },
  {
   "cell_type": "code",
   "execution_count": 14,
   "metadata": {},
   "outputs": [
    {
     "data": {
      "text/html": [
       "<table>\n",
       "<tbody>\n",
       "\t<tr><td>44263.22</td><td>38685.79</td><td>33517.57</td><td>31164.15</td></tr>\n",
       "\t<tr><td>38685.79</td><td>44257.39</td><td>38679.21</td><td>33517.92</td></tr>\n",
       "\t<tr><td>33517.57</td><td>38679.21</td><td>44247.06</td><td>38677.77</td></tr>\n",
       "\t<tr><td>31164.15</td><td>33517.92</td><td>38677.77</td><td>44245.89</td></tr>\n",
       "</tbody>\n",
       "</table>\n"
      ],
      "text/latex": [
       "\\begin{tabular}{llll}\n",
       "\t 44263.22 & 38685.79 & 33517.57 & 31164.15\\\\\n",
       "\t 38685.79 & 44257.39 & 38679.21 & 33517.92\\\\\n",
       "\t 33517.57 & 38679.21 & 44247.06 & 38677.77\\\\\n",
       "\t 31164.15 & 33517.92 & 38677.77 & 44245.89\\\\\n",
       "\\end{tabular}\n"
      ],
      "text/markdown": [
       "\n",
       "| 44263.22 | 38685.79 | 33517.57 | 31164.15 | \n",
       "| 38685.79 | 44257.39 | 38679.21 | 33517.92 | \n",
       "| 33517.57 | 38679.21 | 44247.06 | 38677.77 | \n",
       "| 31164.15 | 33517.92 | 38677.77 | 44245.89 | \n",
       "\n",
       "\n"
      ],
      "text/plain": [
       "     [,1]     [,2]     [,3]     [,4]    \n",
       "[1,] 44263.22 38685.79 33517.57 31164.15\n",
       "[2,] 38685.79 44257.39 38679.21 33517.92\n",
       "[3,] 33517.57 38679.21 44247.06 38677.77\n",
       "[4,] 31164.15 33517.92 38677.77 44245.89"
      ]
     },
     "metadata": {},
     "output_type": "display_data"
    }
   ],
   "source": [
    "D"
   ]
  },
  {
   "cell_type": "code",
   "execution_count": 36,
   "metadata": {},
   "outputs": [],
   "source": [
    "log.lik <- function(zeta){\n",
    "    beta <- c(-1, PacfToAR(zeta))\n",
    "    S.zeta <- beta%*%D%*%beta\n",
    "    g.p <- prod((1- zeta**2)**-(1:p))\n",
    "    return(-(n/2)*log(S.zeta/n) - (1/2)*log(g.p))\n",
    "}"
   ]
  },
  {
   "cell_type": "code",
   "execution_count": 15,
   "metadata": {},
   "outputs": [],
   "source": [
    "beta=c(-1 , c(.9, -.2, 0.2) )"
   ]
  },
  {
   "cell_type": "code",
   "execution_count": 37,
   "metadata": {},
   "outputs": [
    {
     "data": {
      "text/html": [
       "<table>\n",
       "<tbody>\n",
       "\t<tr><td>-3.841633</td></tr>\n",
       "</tbody>\n",
       "</table>\n"
      ],
      "text/latex": [
       "\\begin{tabular}{l}\n",
       "\t -3.841633\\\\\n",
       "\\end{tabular}\n"
      ],
      "text/markdown": [
       "\n",
       "| -3.841633 | \n",
       "\n",
       "\n"
      ],
      "text/plain": [
       "     [,1]     \n",
       "[1,] -3.841633"
      ]
     },
     "metadata": {},
     "output_type": "display_data"
    }
   ],
   "source": [
    "log.lik(ARToPacf(c(.9,-.2,0.2)))"
   ]
  },
  {
   "cell_type": "code",
   "execution_count": 35,
   "metadata": {},
   "outputs": [
    {
     "data": {
      "text/html": [
       "Inf"
      ],
      "text/latex": [
       "Inf"
      ],
      "text/markdown": [
       "Inf"
      ],
      "text/plain": [
       "[1] Inf"
      ]
     },
     "metadata": {},
     "output_type": "display_data"
    }
   ],
   "source": [
    "prod((1- beta**2)**-(1:(p+1)))"
   ]
  },
  {
   "cell_type": "code",
   "execution_count": 18,
   "metadata": {},
   "outputs": [
    {
     "data": {
      "text/html": [
       "<table>\n",
       "<tbody>\n",
       "\t<tr><td>10006.09</td></tr>\n",
       "</tbody>\n",
       "</table>\n"
      ],
      "text/latex": [
       "\\begin{tabular}{l}\n",
       "\t 10006.09\\\\\n",
       "\\end{tabular}\n"
      ],
      "text/markdown": [
       "\n",
       "| 10006.09 | \n",
       "\n",
       "\n"
      ],
      "text/plain": [
       "     [,1]    \n",
       "[1,] 10006.09"
      ]
     },
     "metadata": {},
     "output_type": "display_data"
    }
   ],
   "source": [
    "beta%*%D%*%beta"
   ]
  },
  {
   "cell_type": "code",
   "execution_count": null,
   "metadata": {},
   "outputs": [],
   "source": []
  },
  {
   "cell_type": "code",
   "execution_count": 15,
   "metadata": {},
   "outputs": [
    {
     "data": {
      "text/html": [
       "<ol class=list-inline>\n",
       "\t<li>1.5+1.04083299973307i</li>\n",
       "\t<li>1.5-1.04083299973307i</li>\n",
       "</ol>\n"
      ],
      "text/latex": [
       "\\begin{enumerate*}\n",
       "\\item 1.5+1.04083299973307i\n",
       "\\item 1.5-1.04083299973307i\n",
       "\\end{enumerate*}\n"
      ],
      "text/markdown": [
       "1. 1.5+1.04083299973307i\n",
       "2. 1.5-1.04083299973307i\n",
       "\n",
       "\n"
      ],
      "text/plain": [
       "[1] 1.5+1.040833i 1.5-1.040833i"
      ]
     },
     "metadata": {},
     "output_type": "display_data"
    }
   ],
   "source": [
    "co <- c(0.9, -.3)\n",
    "polyroot(c(1, -co))"
   ]
  },
  {
   "cell_type": "code",
   "execution_count": null,
   "metadata": {},
   "outputs": [],
   "source": [
    "?C"
   ]
  }
 ],
 "metadata": {
  "kernelspec": {
   "display_name": "R [Anaconda3]",
   "language": "R",
   "name": "R [Anaconda3]"
  },
  "language_info": {
   "codemirror_mode": "r",
   "file_extension": ".r",
   "mimetype": "text/x-r-source",
   "name": "R",
   "pygments_lexer": "r",
   "version": "3.4.2"
  }
 },
 "nbformat": 4,
 "nbformat_minor": 2
}
